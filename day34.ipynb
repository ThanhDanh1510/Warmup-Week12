{
 "cells": [
  {
   "cell_type": "code",
   "execution_count": 13,
   "id": "1043c3f4",
   "metadata": {},
   "outputs": [],
   "source": [
    "import tensorflow as tf"
   ]
  },
  {
   "cell_type": "code",
   "execution_count": null,
   "id": "37796ea1",
   "metadata": {},
   "outputs": [
    {
     "name": "stdout",
     "output_type": "stream",
     "text": [
      "tf.Tensor([1 2 3 4 5 6 7 8 9], shape=(9,), dtype=int32)\n",
      "Reshape:\n",
      "[[1 2 3]\n",
      " [4 5 6]\n",
      " [7 8 9]]\n",
      "Expanded dims:\n",
      "[[[1 2 3]\n",
      "  [4 5 6]\n",
      "  [7 8 9]]]\n",
      "Stacked:\n",
      " tf.Tensor(\n",
      "[[[1 2]\n",
      "  [3 4]]\n",
      "\n",
      " [[5 6]\n",
      "  [7 8]]], shape=(2, 2, 2), dtype=int32)\n"
     ]
    }
   ],
   "source": [
    "#Bai 1\n",
    "tensor_1d = tf.constant([1, 2, 3, 4, 5, 6, 7, 8, 9], dtype=tf.int32)\n",
    "print(tensor_1d)\n",
    "\n",
    "tensor_2d = tf.reshape(tensor_1d,(3,3))\n",
    "print(f\"Reshape:\\n{tensor_2d}\")\n",
    "\n",
    "tensor_3d = tf.expand_dims(tensor_2d, axis=0)\n",
    "print(f\"Expanded dims:\\n{tensor_3d}\")\n",
    "\n",
    "x = tf.constant([[1, 2], [3, 4]])\n",
    "y = tf.constant([[5, 6], [7, 8]])\n",
    "stacked = tf.stack([x, y], axis=0)\n",
    "print(\"Stacked:\\n\", stacked)"
   ]
  },
  {
   "cell_type": "code",
   "execution_count": 29,
   "id": "cfdfff75",
   "metadata": {},
   "outputs": [
    {
     "name": "stdout",
     "output_type": "stream",
     "text": [
      "Stacked (0):\n",
      " tf.Tensor(\n",
      "[[[1 2]\n",
      "  [3 4]]\n",
      "\n",
      " [[5 6]\n",
      "  [7 8]]], shape=(2, 2, 2), dtype=int32)\n",
      "Concatenated vertical:\n",
      " tf.Tensor(\n",
      "[[1 2]\n",
      " [3 4]\n",
      " [5 6]\n",
      " [7 8]], shape=(4, 2), dtype=int32)\n",
      "concatenated Horizontal:\n",
      " tf.Tensor(\n",
      "[[1 2 5 6]\n",
      " [3 4 7 8]], shape=(2, 4), dtype=int32)\n"
     ]
    }
   ],
   "source": [
    "#Bai 2\n",
    "A = tf.constant([[1,2],[3,4]], dtype=tf.int32)\n",
    "B = tf.constant([[5,6],[7,8]], dtype=tf.int32)\n",
    "\n",
    "stacked = tf.stack([A, B], axis=0)\n",
    "print(\"Stacked (0):\\n\", stacked)\n",
    "\n",
    "concat0 = tf.concat([A,B], axis=0)\n",
    "print(\"Concatenated vertical:\\n\", concat0)\n",
    "\n",
    "concat1 = tf.concat([A,B], axis=1)\n",
    "print(\"concatenated Horizontal:\\n\", concat1)\n",
    "\n"
   ]
  },
  {
   "cell_type": "code",
   "execution_count": null,
   "id": "9909f12a",
   "metadata": {},
   "outputs": [
    {
     "name": "stdout",
     "output_type": "stream",
     "text": [
      "Giá trị truy xuất vị trí 2: tf.Tensor([], shape=(0,), dtype=int32)\n",
      "Giá trị truy xuất vị trí 3: tf.Tensor([4 5 6], shape=(3,), dtype=int32)\n",
      "Tổng hàng 0: tf.Tensor(3, shape=(), dtype=int32)\n",
      "Tổng hàng 1: tf.Tensor(3, shape=(), dtype=int32)\n",
      "Tổng hàng 2: tf.Tensor(0, shape=(), dtype=int32)\n",
      "Tổng hàng 3: tf.Tensor(15, shape=(), dtype=int32)\n"
     ]
    }
   ],
   "source": [
    "#Bai 3\n",
    "rt = tf.ragged.constant([[1,2], [3], [], [4,5,6]])\n",
    "\n",
    "print(\"Giá trị truy xuất vị trí 2:\", rt[2])\n",
    "print(\"Giá trị truy xuất vị trí 3:\", rt[3])\n",
    "\n",
    "for i, row in enumerate(rt):\n",
    "    print(f\"Tổng hàng {i}:\", tf.reduce_sum(row))"
   ]
  },
  {
   "cell_type": "code",
   "execution_count": null,
   "id": "e4971cf7",
   "metadata": {},
   "outputs": [
    {
     "name": "stdout",
     "output_type": "stream",
     "text": [
      "Dense tensor:\n",
      " tf.Tensor(\n",
      "[[ 0  0  5]\n",
      " [ 0  0  0]\n",
      " [10  0  0]], shape=(3, 3), dtype=int32)\n",
      "Element at (0,2): tf.Tensor(5, shape=(), dtype=int32)\n",
      "Element at (2,0): tf.Tensor(10, shape=(), dtype=int32)\n"
     ]
    }
   ],
   "source": [
    "#Bai 4\n",
    "sparse = tf.sparse.SparseTensor (\n",
    "    indices = [[0, 2], [2, 0]],\n",
    "    values = [5, 10],\n",
    "    dense_shape = [3, 3]\n",
    ")\n",
    "\n",
    "dense_tensor = tf.sparse.to_dense(sparse)\n",
    "print(\"Dense tensor:\\n\", dense_tensor)\n",
    "\n",
    "print(\"Giá trị tại (0,2):\", dense_tensor[0, 2])\n",
    "print(\"Giá trị tại (2,0):\", dense_tensor[2, 0])"
   ]
  },
  {
   "cell_type": "code",
   "execution_count": 41,
   "id": "25247165",
   "metadata": {},
   "outputs": [
    {
     "name": "stdout",
     "output_type": "stream",
     "text": [
      "Từ sau khi tách: [b'Machine' b'learning' b'is' b'fun!']\n",
      "String sau khi thay đổi: b'Machine learning is powerful!'\n",
      "Var new: [3. 4. 5.]\n"
     ]
    }
   ],
   "source": [
    "#Bai 5\n",
    "text = tf.constant(\"Machine learning is fun!\")\n",
    "\n",
    "words = tf.strings.split(text)\n",
    "print(\"Từ sau khi tách:\", words.numpy())\n",
    "\n",
    "replaced = tf.strings.regex_replace(text, \"fun\", \"powerful\")\n",
    "print(\"String sau khi thay đổi:\", replaced.numpy())\n",
    "\n",
    "var = tf.Variable([1.0, 2.0, 3.0])\n",
    "var.assign_add([2.0, 2.0, 2.0])\n",
    "print(\"Var new:\", var.numpy())"
   ]
  }
 ],
 "metadata": {
  "kernelspec": {
   "display_name": "myenv",
   "language": "python",
   "name": "python3"
  },
  "language_info": {
   "codemirror_mode": {
    "name": "ipython",
    "version": 3
   },
   "file_extension": ".py",
   "mimetype": "text/x-python",
   "name": "python",
   "nbconvert_exporter": "python",
   "pygments_lexer": "ipython3",
   "version": "3.12.9"
  }
 },
 "nbformat": 4,
 "nbformat_minor": 5
}
