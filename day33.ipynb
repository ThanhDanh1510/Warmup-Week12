{
 "cells": [
  {
   "cell_type": "code",
   "execution_count": 2,
   "id": "7fb29c08",
   "metadata": {},
   "outputs": [],
   "source": [
    "import tensorflow as tf"
   ]
  },
  {
   "cell_type": "code",
   "execution_count": 12,
   "id": "d3327abe",
   "metadata": {},
   "outputs": [
    {
     "name": "stdout",
     "output_type": "stream",
     "text": [
      "Bài 1.1:\n",
      " [[5. 5. 5. 5.]\n",
      " [5. 5. 5. 5.]\n",
      " [5. 5. 5. 5.]]\n",
      "Bài 1.2:\n",
      " [[[ 2.8670897   0.5201526 ]\n",
      "  [-0.1277172  -1.4373133 ]]\n",
      "\n",
      " [[ 0.43513596 -0.38612887]\n",
      "  [-1.5011033   1.0524379 ]]]\n",
      "Bài 1.3:\n",
      " [[1 0 0 0]\n",
      " [0 2 0 0]\n",
      " [0 0 3 0]\n",
      " [0 0 0 4]]\n"
     ]
    }
   ],
   "source": [
    "#Bai 1\n",
    "tensor_5 = tf.ones([3,4])*5\n",
    "print(\"Bài 1.1:\\n\", tensor_5.numpy())\n",
    "random = tf.random.normal([2,2,2], mean = 0, stddev=1.0)\n",
    "print(\"Bài 1.2:\\n\", random.numpy())\n",
    "diag_tensor = tf.linalg.diag([1, 2, 3, 4])\n",
    "print(\"Bài 1.3:\\n\", diag_tensor.numpy())\n"
   ]
  },
  {
   "cell_type": "code",
   "execution_count": null,
   "id": "f5441b2f",
   "metadata": {},
   "outputs": [
    {
     "name": "stdout",
     "output_type": "stream",
     "text": [
      "Bài 2.1:\n",
      " [[ 1  2  3  4]\n",
      " [ 9 10 11 12]]\n",
      "Bài 2.2:\n",
      " [ 2  6 10]\n",
      "Bài 2.3:\n",
      " [[3 4]\n",
      " [7 8]]\n",
      "Bài 2.4:\n",
      " [[ 1  2  3]\n",
      " [ 4  5  6]\n",
      " [ 7  8  9]\n",
      " [10 11 12]]\n"
     ]
    }
   ],
   "source": [
    "#Bai 2\n",
    "tensor = tf.constant([[1, 2, 3, 4],\n",
    "                     [5, 6, 7, 8],\n",
    "                     [9, 10, 11, 12]])\n",
    "new_matrix = tensor[::2,:]\n",
    "print(\"Bài 2.1:\\n\", new_matrix.numpy())\n",
    "\n",
    "col_2 = tensor[::,1]\n",
    "print(\"Bài 2.2:\\n\", col_2.numpy())\n",
    "\n",
    "right_top_matrix = tensor[:2, 2:]\n",
    "print(\"Bài 2.3:\\n\", right_top_matrix.numpy())\n",
    "\n",
    "reshape_matrix = tf.reshape(tensor, [4 , 3])\n",
    "print(\"Bài 2.4:\\n\", reshape_matrix.numpy())"
   ]
  },
  {
   "cell_type": "code",
   "execution_count": 31,
   "id": "f922ea1f",
   "metadata": {},
   "outputs": [
    {
     "name": "stdout",
     "output_type": "stream",
     "text": [
      "Bài 3.1:\n",
      " [[27 40]\n",
      " [55 72]]\n",
      "Bài 3.2:\n",
      " [[19 22]\n",
      " [43 50]]\n",
      "Bài 3.3:\n",
      " -2.0\n",
      "Bài 3.4:\n",
      " [[5 7]\n",
      " [6 8]]\n"
     ]
    }
   ],
   "source": [
    "#Bai 3\n",
    "a = tf.constant([[1, 2], [3, 4]])\n",
    "b = tf.constant([[5, 6], [7, 8]])\n",
    "\n",
    "result1 = 2*a + b*b\n",
    "print(\"Bài 3.1:\\n\", result1.numpy())\n",
    "\n",
    "dot_product = tf.tensordot(a, b, axes=1)\n",
    "print(\"Bài 3.2:\\n\", dot_product.numpy())\n",
    "\n",
    "matrix = tf.cast(a, tf.float32)\n",
    "det_a = tf.linalg.det(matrix)\n",
    "print(\"Bài 3.3:\\n\", det_a.numpy())\n",
    "\n",
    "transpose_b = tf.transpose(b)\n",
    "print(\"Bài 3.4:\\n\", transpose_b.numpy())"
   ]
  },
  {
   "cell_type": "code",
   "execution_count": 34,
   "id": "eb25ea0a",
   "metadata": {},
   "outputs": [
    {
     "name": "stdout",
     "output_type": "stream",
     "text": [
      "Bài 4.1:\n",
      " [[214  55 239 ... 247  98 114]\n",
      " [203 198 155 ...  26 247  77]\n",
      " [ 73 166   5 ... 205 192 188]\n",
      " ...\n",
      " [167  76  73 ... 192 238  21]\n",
      " [125 118  73 ...  39  65  34]\n",
      " [209 243  88 ... 103 233  87]] [[ 95 229 141 ...  56 112 244]\n",
      " [160  89  33 ...  24 222  74]\n",
      " [189 192 116 ...  75   3 227]\n",
      " ...\n",
      " [ 75 202 215 ... 143 166  68]\n",
      " [ 81  43 125 ...  64   3 173]\n",
      " [229  93 146 ...  22 232 117]] [[238 247 251 ... 175  40 154]\n",
      " [247  39 242 ...  95 162   2]\n",
      " [ 24 103  25 ...  58  57 134]\n",
      " ...\n",
      " [ 65  87  91 ... 245  50  77]\n",
      " [187   3  16 ...  74 210 218]\n",
      " [161 155 113 ... 222 130  46]]\n",
      "Bài 4.2 - Mean values:\n",
      " 127.16629 126.925934 126.76703\n",
      "Bài 4.3 - Grayscale shape: (256, 256)\n",
      "Bài 4.4 - Crop shapes: (128, 128, 3) (128, 128, 3) (128, 128, 3) (128, 128, 3)\n"
     ]
    }
   ],
   "source": [
    "image = tf.random.uniform([256, 256, 3], maxval=255, dtype=tf.int32)\n",
    "\n",
    "r_channel = image[:, :, 0]\n",
    "g_channel = image[:, :, 1]\n",
    "b_channel = image[:, :, 2]\n",
    "print(\"Bài 4.1:\\n\", r_channel.numpy(), g_channel.numpy(), b_channel.numpy())\n",
    "\n",
    "mean_r = tf.reduce_mean(tf.cast(r_channel, tf.float32))\n",
    "mean_g = tf.reduce_mean(tf.cast(g_channel, tf.float32))\n",
    "mean_b = tf.reduce_mean(tf.cast(b_channel, tf.float32))\n",
    "print(\"Bài 4.2 - Mean values:\\n\", mean_r.numpy(), mean_g.numpy(), mean_b.numpy())\n",
    "\n",
    "gray_scaled_image = 0.299 * tf.cast(r_channel, tf.float32) + \\\n",
    "             0.587 * tf.cast(g_channel, tf.float32) + \\\n",
    "             0.114 * tf.cast(b_channel, tf.float32)\n",
    "print(\"Bài 4.3 - Grayscale shape:\", gray_scaled_image.shape)\n",
    "\n",
    "top_left_img = image[:128, :128]\n",
    "top_right_img = image[:128, 128:]\n",
    "bottom_left_img = image[128:, :128]\n",
    "bottom_right_img = image[128:, 128:]\n",
    "print(\"Bài 4.4 - Crop shapes:\",\n",
    "      top_left_img.shape, top_right_img.shape,\n",
    "      bottom_left_img.shape, bottom_right_img.shape)"
   ]
  }
 ],
 "metadata": {
  "kernelspec": {
   "display_name": "myenv",
   "language": "python",
   "name": "python3"
  },
  "language_info": {
   "codemirror_mode": {
    "name": "ipython",
    "version": 3
   },
   "file_extension": ".py",
   "mimetype": "text/x-python",
   "name": "python",
   "nbconvert_exporter": "python",
   "pygments_lexer": "ipython3",
   "version": "3.12.9"
  }
 },
 "nbformat": 4,
 "nbformat_minor": 5
}
